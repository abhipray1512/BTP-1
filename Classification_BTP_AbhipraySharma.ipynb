{
  "nbformat": 4,
  "nbformat_minor": 0,
  "metadata": {
    "colab": {
      "provenance": [],
      "collapsed_sections": []
    },
    "kernelspec": {
      "name": "python3",
      "display_name": "Python 3"
    },
    "language_info": {
      "name": "python"
    }
  },
  "cells": [
    {
      "cell_type": "code",
      "execution_count": 1,
      "metadata": {
        "colab": {
          "base_uri": "https://localhost:8080/"
        },
        "id": "16sbpKXjpRrL",
        "outputId": "1cb5444a-77f2-4d00-ee52-d7f0d30c8590"
      },
      "outputs": [
        {
          "output_type": "stream",
          "name": "stdout",
          "text": [
            "Mounted at /content/drive\n"
          ]
        }
      ],
      "source": [
        "# Mounting colab on drive\n",
        "from google.colab import drive\n",
        "\n",
        "drive.mount('/content/drive', force_remount=True)\n",
        "# Enter the folder name\n",
        "FOLDER_NAME = '/content/drive/My Drive/BTP_Classification/'"
      ]
    },
    {
      "cell_type": "code",
      "source": [
        "!pip install catboost"
      ],
      "metadata": {
        "colab": {
          "base_uri": "https://localhost:8080/"
        },
        "id": "v2_vSSr1xuLh",
        "outputId": "3baecdf2-4eac-4efb-e279-84347536b822"
      },
      "execution_count": 2,
      "outputs": [
        {
          "output_type": "stream",
          "name": "stdout",
          "text": [
            "Looking in indexes: https://pypi.org/simple, https://us-python.pkg.dev/colab-wheels/public/simple/\n",
            "Collecting catboost\n",
            "  Downloading catboost-1.1.1-cp37-none-manylinux1_x86_64.whl (76.6 MB)\n",
            "\u001b[K     |████████████████████████████████| 76.6 MB 1.2 MB/s \n",
            "\u001b[?25hRequirement already satisfied: matplotlib in /usr/local/lib/python3.7/dist-packages (from catboost) (3.2.2)\n",
            "Requirement already satisfied: pandas>=0.24.0 in /usr/local/lib/python3.7/dist-packages (from catboost) (1.3.5)\n",
            "Requirement already satisfied: six in /usr/local/lib/python3.7/dist-packages (from catboost) (1.15.0)\n",
            "Requirement already satisfied: scipy in /usr/local/lib/python3.7/dist-packages (from catboost) (1.7.3)\n",
            "Requirement already satisfied: numpy>=1.16.0 in /usr/local/lib/python3.7/dist-packages (from catboost) (1.21.6)\n",
            "Requirement already satisfied: plotly in /usr/local/lib/python3.7/dist-packages (from catboost) (5.5.0)\n",
            "Requirement already satisfied: graphviz in /usr/local/lib/python3.7/dist-packages (from catboost) (0.10.1)\n",
            "Requirement already satisfied: pytz>=2017.3 in /usr/local/lib/python3.7/dist-packages (from pandas>=0.24.0->catboost) (2022.6)\n",
            "Requirement already satisfied: python-dateutil>=2.7.3 in /usr/local/lib/python3.7/dist-packages (from pandas>=0.24.0->catboost) (2.8.2)\n",
            "Requirement already satisfied: cycler>=0.10 in /usr/local/lib/python3.7/dist-packages (from matplotlib->catboost) (0.11.0)\n",
            "Requirement already satisfied: kiwisolver>=1.0.1 in /usr/local/lib/python3.7/dist-packages (from matplotlib->catboost) (1.4.4)\n",
            "Requirement already satisfied: pyparsing!=2.0.4,!=2.1.2,!=2.1.6,>=2.0.1 in /usr/local/lib/python3.7/dist-packages (from matplotlib->catboost) (3.0.9)\n",
            "Requirement already satisfied: typing-extensions in /usr/local/lib/python3.7/dist-packages (from kiwisolver>=1.0.1->matplotlib->catboost) (4.1.1)\n",
            "Requirement already satisfied: tenacity>=6.2.0 in /usr/local/lib/python3.7/dist-packages (from plotly->catboost) (8.1.0)\n",
            "Installing collected packages: catboost\n",
            "Successfully installed catboost-1.1.1\n"
          ]
        }
      ]
    },
    {
      "cell_type": "code",
      "source": [
        "import pandas as pd\n",
        "import numpy as np\n",
        "from sklearn.model_selection import train_test_split\n",
        "from sklearn.linear_model import LogisticRegression\n",
        "from sklearn.svm import SVC\n",
        "from sklearn.tree import DecisionTreeClassifier\n",
        "from sklearn.ensemble import RandomForestClassifier\n",
        "from catboost import CatBoostRegressor\n",
        "import xgboost as xgb\n",
        "from sklearn.naive_bayes import GaussianNB\n",
        "from sklearn.neighbors import KNeighborsClassifier\n",
        "from sklearn.cluster import KMeans"
      ],
      "metadata": {
        "id": "evMVvuLGplEj"
      },
      "execution_count": 3,
      "outputs": []
    },
    {
      "cell_type": "code",
      "source": [
        "data = pd.read_csv(FOLDER_NAME+\"Indoor_room_HI_labels.csv\")"
      ],
      "metadata": {
        "id": "b_2Rby9frIud"
      },
      "execution_count": 4,
      "outputs": []
    },
    {
      "cell_type": "code",
      "source": [
        "data.head()"
      ],
      "metadata": {
        "colab": {
          "base_uri": "https://localhost:8080/",
          "height": 206
        },
        "id": "AvKtUasJ-ng-",
        "outputId": "cdfa2759-5a82-49a7-c8b6-62ebb58442b7"
      },
      "execution_count": 5,
      "outputs": [
        {
          "output_type": "execute_result",
          "data": {
            "text/plain": [
              "   S1Temeprature  S1Humidity  S3CO2  S4CO2  S5Temperature  S5Humidity  S5CO2  \\\n",
              "0           31.5        70.6    674    554          33.51       59.52    444   \n",
              "1           31.4        70.4    649    556          33.57       59.36    447   \n",
              "2           31.5        70.5    641    558          33.64       59.22    449   \n",
              "3           31.5        70.5    634    560          33.67       59.16    449   \n",
              "4           31.5        70.4    626    562          33.72       59.07    450   \n",
              "\n",
              "   HI  \n",
              "0   1  \n",
              "1   1  \n",
              "2   1  \n",
              "3   1  \n",
              "4   1  "
            ],
            "text/html": [
              "\n",
              "  <div id=\"df-c90baeb2-4463-4cb0-a061-1f07423bb6ca\">\n",
              "    <div class=\"colab-df-container\">\n",
              "      <div>\n",
              "<style scoped>\n",
              "    .dataframe tbody tr th:only-of-type {\n",
              "        vertical-align: middle;\n",
              "    }\n",
              "\n",
              "    .dataframe tbody tr th {\n",
              "        vertical-align: top;\n",
              "    }\n",
              "\n",
              "    .dataframe thead th {\n",
              "        text-align: right;\n",
              "    }\n",
              "</style>\n",
              "<table border=\"1\" class=\"dataframe\">\n",
              "  <thead>\n",
              "    <tr style=\"text-align: right;\">\n",
              "      <th></th>\n",
              "      <th>S1Temeprature</th>\n",
              "      <th>S1Humidity</th>\n",
              "      <th>S3CO2</th>\n",
              "      <th>S4CO2</th>\n",
              "      <th>S5Temperature</th>\n",
              "      <th>S5Humidity</th>\n",
              "      <th>S5CO2</th>\n",
              "      <th>HI</th>\n",
              "    </tr>\n",
              "  </thead>\n",
              "  <tbody>\n",
              "    <tr>\n",
              "      <th>0</th>\n",
              "      <td>31.5</td>\n",
              "      <td>70.6</td>\n",
              "      <td>674</td>\n",
              "      <td>554</td>\n",
              "      <td>33.51</td>\n",
              "      <td>59.52</td>\n",
              "      <td>444</td>\n",
              "      <td>1</td>\n",
              "    </tr>\n",
              "    <tr>\n",
              "      <th>1</th>\n",
              "      <td>31.4</td>\n",
              "      <td>70.4</td>\n",
              "      <td>649</td>\n",
              "      <td>556</td>\n",
              "      <td>33.57</td>\n",
              "      <td>59.36</td>\n",
              "      <td>447</td>\n",
              "      <td>1</td>\n",
              "    </tr>\n",
              "    <tr>\n",
              "      <th>2</th>\n",
              "      <td>31.5</td>\n",
              "      <td>70.5</td>\n",
              "      <td>641</td>\n",
              "      <td>558</td>\n",
              "      <td>33.64</td>\n",
              "      <td>59.22</td>\n",
              "      <td>449</td>\n",
              "      <td>1</td>\n",
              "    </tr>\n",
              "    <tr>\n",
              "      <th>3</th>\n",
              "      <td>31.5</td>\n",
              "      <td>70.5</td>\n",
              "      <td>634</td>\n",
              "      <td>560</td>\n",
              "      <td>33.67</td>\n",
              "      <td>59.16</td>\n",
              "      <td>449</td>\n",
              "      <td>1</td>\n",
              "    </tr>\n",
              "    <tr>\n",
              "      <th>4</th>\n",
              "      <td>31.5</td>\n",
              "      <td>70.4</td>\n",
              "      <td>626</td>\n",
              "      <td>562</td>\n",
              "      <td>33.72</td>\n",
              "      <td>59.07</td>\n",
              "      <td>450</td>\n",
              "      <td>1</td>\n",
              "    </tr>\n",
              "  </tbody>\n",
              "</table>\n",
              "</div>\n",
              "      <button class=\"colab-df-convert\" onclick=\"convertToInteractive('df-c90baeb2-4463-4cb0-a061-1f07423bb6ca')\"\n",
              "              title=\"Convert this dataframe to an interactive table.\"\n",
              "              style=\"display:none;\">\n",
              "        \n",
              "  <svg xmlns=\"http://www.w3.org/2000/svg\" height=\"24px\"viewBox=\"0 0 24 24\"\n",
              "       width=\"24px\">\n",
              "    <path d=\"M0 0h24v24H0V0z\" fill=\"none\"/>\n",
              "    <path d=\"M18.56 5.44l.94 2.06.94-2.06 2.06-.94-2.06-.94-.94-2.06-.94 2.06-2.06.94zm-11 1L8.5 8.5l.94-2.06 2.06-.94-2.06-.94L8.5 2.5l-.94 2.06-2.06.94zm10 10l.94 2.06.94-2.06 2.06-.94-2.06-.94-.94-2.06-.94 2.06-2.06.94z\"/><path d=\"M17.41 7.96l-1.37-1.37c-.4-.4-.92-.59-1.43-.59-.52 0-1.04.2-1.43.59L10.3 9.45l-7.72 7.72c-.78.78-.78 2.05 0 2.83L4 21.41c.39.39.9.59 1.41.59.51 0 1.02-.2 1.41-.59l7.78-7.78 2.81-2.81c.8-.78.8-2.07 0-2.86zM5.41 20L4 18.59l7.72-7.72 1.47 1.35L5.41 20z\"/>\n",
              "  </svg>\n",
              "      </button>\n",
              "      \n",
              "  <style>\n",
              "    .colab-df-container {\n",
              "      display:flex;\n",
              "      flex-wrap:wrap;\n",
              "      gap: 12px;\n",
              "    }\n",
              "\n",
              "    .colab-df-convert {\n",
              "      background-color: #E8F0FE;\n",
              "      border: none;\n",
              "      border-radius: 50%;\n",
              "      cursor: pointer;\n",
              "      display: none;\n",
              "      fill: #1967D2;\n",
              "      height: 32px;\n",
              "      padding: 0 0 0 0;\n",
              "      width: 32px;\n",
              "    }\n",
              "\n",
              "    .colab-df-convert:hover {\n",
              "      background-color: #E2EBFA;\n",
              "      box-shadow: 0px 1px 2px rgba(60, 64, 67, 0.3), 0px 1px 3px 1px rgba(60, 64, 67, 0.15);\n",
              "      fill: #174EA6;\n",
              "    }\n",
              "\n",
              "    [theme=dark] .colab-df-convert {\n",
              "      background-color: #3B4455;\n",
              "      fill: #D2E3FC;\n",
              "    }\n",
              "\n",
              "    [theme=dark] .colab-df-convert:hover {\n",
              "      background-color: #434B5C;\n",
              "      box-shadow: 0px 1px 3px 1px rgba(0, 0, 0, 0.15);\n",
              "      filter: drop-shadow(0px 1px 2px rgba(0, 0, 0, 0.3));\n",
              "      fill: #FFFFFF;\n",
              "    }\n",
              "  </style>\n",
              "\n",
              "      <script>\n",
              "        const buttonEl =\n",
              "          document.querySelector('#df-c90baeb2-4463-4cb0-a061-1f07423bb6ca button.colab-df-convert');\n",
              "        buttonEl.style.display =\n",
              "          google.colab.kernel.accessAllowed ? 'block' : 'none';\n",
              "\n",
              "        async function convertToInteractive(key) {\n",
              "          const element = document.querySelector('#df-c90baeb2-4463-4cb0-a061-1f07423bb6ca');\n",
              "          const dataTable =\n",
              "            await google.colab.kernel.invokeFunction('convertToInteractive',\n",
              "                                                     [key], {});\n",
              "          if (!dataTable) return;\n",
              "\n",
              "          const docLinkHtml = 'Like what you see? Visit the ' +\n",
              "            '<a target=\"_blank\" href=https://colab.research.google.com/notebooks/data_table.ipynb>data table notebook</a>'\n",
              "            + ' to learn more about interactive tables.';\n",
              "          element.innerHTML = '';\n",
              "          dataTable['output_type'] = 'display_data';\n",
              "          await google.colab.output.renderOutput(dataTable, element);\n",
              "          const docLink = document.createElement('div');\n",
              "          docLink.innerHTML = docLinkHtml;\n",
              "          element.appendChild(docLink);\n",
              "        }\n",
              "      </script>\n",
              "    </div>\n",
              "  </div>\n",
              "  "
            ]
          },
          "metadata": {},
          "execution_count": 5
        }
      ]
    },
    {
      "cell_type": "code",
      "source": [
        "data.columns"
      ],
      "metadata": {
        "colab": {
          "base_uri": "https://localhost:8080/"
        },
        "id": "A62g9bqstHTD",
        "outputId": "3cff6fba-115f-41f7-a900-7af462b2b19a"
      },
      "execution_count": 6,
      "outputs": [
        {
          "output_type": "execute_result",
          "data": {
            "text/plain": [
              "Index(['S1Temeprature', 'S1Humidity', 'S3CO2', 'S4CO2', 'S5Temperature',\n",
              "       'S5Humidity', 'S5CO2', 'HI'],\n",
              "      dtype='object')"
            ]
          },
          "metadata": {},
          "execution_count": 6
        }
      ]
    },
    {
      "cell_type": "code",
      "source": [
        "data['HI'].value_counts()"
      ],
      "metadata": {
        "colab": {
          "base_uri": "https://localhost:8080/"
        },
        "id": "U2n8evxBIMIo",
        "outputId": "f304f487-a447-4075-95a8-68f7932bc54a"
      },
      "execution_count": 8,
      "outputs": [
        {
          "output_type": "execute_result",
          "data": {
            "text/plain": [
              "3    410\n",
              "2    327\n",
              "1    280\n",
              "Name: HI, dtype: int64"
            ]
          },
          "metadata": {},
          "execution_count": 8
        }
      ]
    },
    {
      "cell_type": "code",
      "source": [
        "corr = data.corr()"
      ],
      "metadata": {
        "id": "UXuw2SZCIUNl"
      },
      "execution_count": 9,
      "outputs": []
    },
    {
      "cell_type": "code",
      "source": [
        "corr"
      ],
      "metadata": {
        "colab": {
          "base_uri": "https://localhost:8080/",
          "height": 300
        },
        "id": "K3Hw6wxJIlha",
        "outputId": "5bb2e27a-e7be-429d-f6f6-4da206672fcc"
      },
      "execution_count": 10,
      "outputs": [
        {
          "output_type": "execute_result",
          "data": {
            "text/plain": [
              "               S1Temeprature  S1Humidity     S3CO2     S4CO2  S5Temperature  \\\n",
              "S1Temeprature       1.000000   -0.581880  0.674481  0.654400       0.728736   \n",
              "S1Humidity         -0.581880    1.000000 -0.117832 -0.350908      -0.772389   \n",
              "S3CO2               0.674481   -0.117832  1.000000  0.499097       0.443975   \n",
              "S4CO2               0.654400   -0.350908  0.499097  1.000000       0.449676   \n",
              "S5Temperature       0.728736   -0.772389  0.443975  0.449676       1.000000   \n",
              "S5Humidity         -0.286698    0.806685 -0.018429 -0.137886      -0.834605   \n",
              "S5CO2               0.782053   -0.317848  0.494871  0.889192       0.533262   \n",
              "HI                  0.426846    0.106449  0.781937 -0.031283       0.206537   \n",
              "\n",
              "               S5Humidity     S5CO2        HI  \n",
              "S1Temeprature   -0.286698  0.782053  0.426846  \n",
              "S1Humidity       0.806685 -0.317848  0.106449  \n",
              "S3CO2           -0.018429  0.494871  0.781937  \n",
              "S4CO2           -0.137886  0.889192 -0.031283  \n",
              "S5Temperature   -0.834605  0.533262  0.206537  \n",
              "S5Humidity       1.000000 -0.119544  0.139920  \n",
              "S5CO2           -0.119544  1.000000  0.078690  \n",
              "HI               0.139920  0.078690  1.000000  "
            ],
            "text/html": [
              "\n",
              "  <div id=\"df-a9a1a6aa-84bb-43ac-9b8c-f7c09940cfc7\">\n",
              "    <div class=\"colab-df-container\">\n",
              "      <div>\n",
              "<style scoped>\n",
              "    .dataframe tbody tr th:only-of-type {\n",
              "        vertical-align: middle;\n",
              "    }\n",
              "\n",
              "    .dataframe tbody tr th {\n",
              "        vertical-align: top;\n",
              "    }\n",
              "\n",
              "    .dataframe thead th {\n",
              "        text-align: right;\n",
              "    }\n",
              "</style>\n",
              "<table border=\"1\" class=\"dataframe\">\n",
              "  <thead>\n",
              "    <tr style=\"text-align: right;\">\n",
              "      <th></th>\n",
              "      <th>S1Temeprature</th>\n",
              "      <th>S1Humidity</th>\n",
              "      <th>S3CO2</th>\n",
              "      <th>S4CO2</th>\n",
              "      <th>S5Temperature</th>\n",
              "      <th>S5Humidity</th>\n",
              "      <th>S5CO2</th>\n",
              "      <th>HI</th>\n",
              "    </tr>\n",
              "  </thead>\n",
              "  <tbody>\n",
              "    <tr>\n",
              "      <th>S1Temeprature</th>\n",
              "      <td>1.000000</td>\n",
              "      <td>-0.581880</td>\n",
              "      <td>0.674481</td>\n",
              "      <td>0.654400</td>\n",
              "      <td>0.728736</td>\n",
              "      <td>-0.286698</td>\n",
              "      <td>0.782053</td>\n",
              "      <td>0.426846</td>\n",
              "    </tr>\n",
              "    <tr>\n",
              "      <th>S1Humidity</th>\n",
              "      <td>-0.581880</td>\n",
              "      <td>1.000000</td>\n",
              "      <td>-0.117832</td>\n",
              "      <td>-0.350908</td>\n",
              "      <td>-0.772389</td>\n",
              "      <td>0.806685</td>\n",
              "      <td>-0.317848</td>\n",
              "      <td>0.106449</td>\n",
              "    </tr>\n",
              "    <tr>\n",
              "      <th>S3CO2</th>\n",
              "      <td>0.674481</td>\n",
              "      <td>-0.117832</td>\n",
              "      <td>1.000000</td>\n",
              "      <td>0.499097</td>\n",
              "      <td>0.443975</td>\n",
              "      <td>-0.018429</td>\n",
              "      <td>0.494871</td>\n",
              "      <td>0.781937</td>\n",
              "    </tr>\n",
              "    <tr>\n",
              "      <th>S4CO2</th>\n",
              "      <td>0.654400</td>\n",
              "      <td>-0.350908</td>\n",
              "      <td>0.499097</td>\n",
              "      <td>1.000000</td>\n",
              "      <td>0.449676</td>\n",
              "      <td>-0.137886</td>\n",
              "      <td>0.889192</td>\n",
              "      <td>-0.031283</td>\n",
              "    </tr>\n",
              "    <tr>\n",
              "      <th>S5Temperature</th>\n",
              "      <td>0.728736</td>\n",
              "      <td>-0.772389</td>\n",
              "      <td>0.443975</td>\n",
              "      <td>0.449676</td>\n",
              "      <td>1.000000</td>\n",
              "      <td>-0.834605</td>\n",
              "      <td>0.533262</td>\n",
              "      <td>0.206537</td>\n",
              "    </tr>\n",
              "    <tr>\n",
              "      <th>S5Humidity</th>\n",
              "      <td>-0.286698</td>\n",
              "      <td>0.806685</td>\n",
              "      <td>-0.018429</td>\n",
              "      <td>-0.137886</td>\n",
              "      <td>-0.834605</td>\n",
              "      <td>1.000000</td>\n",
              "      <td>-0.119544</td>\n",
              "      <td>0.139920</td>\n",
              "    </tr>\n",
              "    <tr>\n",
              "      <th>S5CO2</th>\n",
              "      <td>0.782053</td>\n",
              "      <td>-0.317848</td>\n",
              "      <td>0.494871</td>\n",
              "      <td>0.889192</td>\n",
              "      <td>0.533262</td>\n",
              "      <td>-0.119544</td>\n",
              "      <td>1.000000</td>\n",
              "      <td>0.078690</td>\n",
              "    </tr>\n",
              "    <tr>\n",
              "      <th>HI</th>\n",
              "      <td>0.426846</td>\n",
              "      <td>0.106449</td>\n",
              "      <td>0.781937</td>\n",
              "      <td>-0.031283</td>\n",
              "      <td>0.206537</td>\n",
              "      <td>0.139920</td>\n",
              "      <td>0.078690</td>\n",
              "      <td>1.000000</td>\n",
              "    </tr>\n",
              "  </tbody>\n",
              "</table>\n",
              "</div>\n",
              "      <button class=\"colab-df-convert\" onclick=\"convertToInteractive('df-a9a1a6aa-84bb-43ac-9b8c-f7c09940cfc7')\"\n",
              "              title=\"Convert this dataframe to an interactive table.\"\n",
              "              style=\"display:none;\">\n",
              "        \n",
              "  <svg xmlns=\"http://www.w3.org/2000/svg\" height=\"24px\"viewBox=\"0 0 24 24\"\n",
              "       width=\"24px\">\n",
              "    <path d=\"M0 0h24v24H0V0z\" fill=\"none\"/>\n",
              "    <path d=\"M18.56 5.44l.94 2.06.94-2.06 2.06-.94-2.06-.94-.94-2.06-.94 2.06-2.06.94zm-11 1L8.5 8.5l.94-2.06 2.06-.94-2.06-.94L8.5 2.5l-.94 2.06-2.06.94zm10 10l.94 2.06.94-2.06 2.06-.94-2.06-.94-.94-2.06-.94 2.06-2.06.94z\"/><path d=\"M17.41 7.96l-1.37-1.37c-.4-.4-.92-.59-1.43-.59-.52 0-1.04.2-1.43.59L10.3 9.45l-7.72 7.72c-.78.78-.78 2.05 0 2.83L4 21.41c.39.39.9.59 1.41.59.51 0 1.02-.2 1.41-.59l7.78-7.78 2.81-2.81c.8-.78.8-2.07 0-2.86zM5.41 20L4 18.59l7.72-7.72 1.47 1.35L5.41 20z\"/>\n",
              "  </svg>\n",
              "      </button>\n",
              "      \n",
              "  <style>\n",
              "    .colab-df-container {\n",
              "      display:flex;\n",
              "      flex-wrap:wrap;\n",
              "      gap: 12px;\n",
              "    }\n",
              "\n",
              "    .colab-df-convert {\n",
              "      background-color: #E8F0FE;\n",
              "      border: none;\n",
              "      border-radius: 50%;\n",
              "      cursor: pointer;\n",
              "      display: none;\n",
              "      fill: #1967D2;\n",
              "      height: 32px;\n",
              "      padding: 0 0 0 0;\n",
              "      width: 32px;\n",
              "    }\n",
              "\n",
              "    .colab-df-convert:hover {\n",
              "      background-color: #E2EBFA;\n",
              "      box-shadow: 0px 1px 2px rgba(60, 64, 67, 0.3), 0px 1px 3px 1px rgba(60, 64, 67, 0.15);\n",
              "      fill: #174EA6;\n",
              "    }\n",
              "\n",
              "    [theme=dark] .colab-df-convert {\n",
              "      background-color: #3B4455;\n",
              "      fill: #D2E3FC;\n",
              "    }\n",
              "\n",
              "    [theme=dark] .colab-df-convert:hover {\n",
              "      background-color: #434B5C;\n",
              "      box-shadow: 0px 1px 3px 1px rgba(0, 0, 0, 0.15);\n",
              "      filter: drop-shadow(0px 1px 2px rgba(0, 0, 0, 0.3));\n",
              "      fill: #FFFFFF;\n",
              "    }\n",
              "  </style>\n",
              "\n",
              "      <script>\n",
              "        const buttonEl =\n",
              "          document.querySelector('#df-a9a1a6aa-84bb-43ac-9b8c-f7c09940cfc7 button.colab-df-convert');\n",
              "        buttonEl.style.display =\n",
              "          google.colab.kernel.accessAllowed ? 'block' : 'none';\n",
              "\n",
              "        async function convertToInteractive(key) {\n",
              "          const element = document.querySelector('#df-a9a1a6aa-84bb-43ac-9b8c-f7c09940cfc7');\n",
              "          const dataTable =\n",
              "            await google.colab.kernel.invokeFunction('convertToInteractive',\n",
              "                                                     [key], {});\n",
              "          if (!dataTable) return;\n",
              "\n",
              "          const docLinkHtml = 'Like what you see? Visit the ' +\n",
              "            '<a target=\"_blank\" href=https://colab.research.google.com/notebooks/data_table.ipynb>data table notebook</a>'\n",
              "            + ' to learn more about interactive tables.';\n",
              "          element.innerHTML = '';\n",
              "          dataTable['output_type'] = 'display_data';\n",
              "          await google.colab.output.renderOutput(dataTable, element);\n",
              "          const docLink = document.createElement('div');\n",
              "          docLink.innerHTML = docLinkHtml;\n",
              "          element.appendChild(docLink);\n",
              "        }\n",
              "      </script>\n",
              "    </div>\n",
              "  </div>\n",
              "  "
            ]
          },
          "metadata": {},
          "execution_count": 10
        }
      ]
    },
    {
      "cell_type": "code",
      "source": [
        "import seaborn as sb\n",
        "import matplotlib.pyplot as plt\n",
        "\n",
        "dataplot = sb.heatmap(data.corr(), cmap=\"YlGnBu\", annot=True)\n",
        "plt.show()"
      ],
      "metadata": {
        "colab": {
          "base_uri": "https://localhost:8080/",
          "height": 335
        },
        "id": "IsUXDNYgIpgy",
        "outputId": "0477eb17-3f2e-433c-85ab-abaaaf5ee6cb"
      },
      "execution_count": 11,
      "outputs": [
        {
          "output_type": "display_data",
          "data": {
            "text/plain": [
              "<Figure size 432x288 with 2 Axes>"
            ],
            "image/png": "[encoded data removed]"
          },
          "metadata": {
            "needs_background": "light"
          }
        }
      ]
    },
    {
      "cell_type": "code",
      "source": [
        "data_y = np.array(data['HI'])\n",
        "data_x = np.array(data.drop('HI', axis=1))"
      ],
      "metadata": {
        "id": "rdgvo9lJtIRS"
      },
      "execution_count": null,
      "outputs": []
    },
    {
      "cell_type": "code",
      "source": [
        "train_x, test_x, train_y, test_y = train_test_split(data_x, data_y, test_size=0.1, random_state=42)"
      ],
      "metadata": {
        "id": "S1c4nFhRtv_U"
      },
      "execution_count": null,
      "outputs": []
    },
    {
      "cell_type": "markdown",
      "source": [
        "### Different classifiers applied on data"
      ],
      "metadata": {
        "id": "oFGHmfMe17mM"
      }
    },
    {
      "cell_type": "code",
      "source": [
        "# Naive Bayes classifier\n",
        "\n",
        "clf = GaussianNB().fit(train_x, train_y)\n",
        "clf.score(test_x, test_y)"
      ],
      "metadata": {
        "colab": {
          "base_uri": "https://localhost:8080/"
        },
        "id": "sCi_fO--0QV1",
        "outputId": "6a6d0c8b-7979-480c-e1a5-0ec19112318a"
      },
      "execution_count": null,
      "outputs": [
        {
          "output_type": "execute_result",
          "data": {
            "text/plain": [
              "0.9705882352941176"
            ]
          },
          "metadata": {},
          "execution_count": 73
        }
      ]
    },
    {
      "cell_type": "code",
      "source": [
        "# Logistic regression\n",
        "\n",
        "clf = LogisticRegression(random_state=0, solver='liblinear').fit(train_x, train_y)\n",
        "clf.score(test_x, test_y)"
      ],
      "metadata": {
        "colab": {
          "base_uri": "https://localhost:8080/"
        },
        "id": "6Cd_FKiGuY5a",
        "outputId": "f046f48d-7e82-4af9-cad0-a7a94e65171f"
      },
      "execution_count": null,
      "outputs": [
        {
          "output_type": "execute_result",
          "data": {
            "text/plain": [
              "0.9901960784313726"
            ]
          },
          "metadata": {},
          "execution_count": 29
        }
      ]
    },
    {
      "cell_type": "code",
      "source": [
        "# SVM\n",
        "\n",
        "clf = SVC(C=5, gamma='auto').fit(train_x, train_y)\n",
        "clf.score(test_x, test_y)"
      ],
      "metadata": {
        "colab": {
          "base_uri": "https://localhost:8080/"
        },
        "id": "-pvPz-5Pustr",
        "outputId": "0f602aea-63fc-4194-e9a4-d2696d89f7b1"
      },
      "execution_count": null,
      "outputs": [
        {
          "output_type": "execute_result",
          "data": {
            "text/plain": [
              "0.8333333333333334"
            ]
          },
          "metadata": {},
          "execution_count": 45
        }
      ]
    },
    {
      "cell_type": "markdown",
      "source": [
        "K-Nearest Neighbours with different number of neighbours"
      ],
      "metadata": {
        "id": "b_IHXY2067bp"
      }
    },
    {
      "cell_type": "code",
      "source": [
        "# K-Nearest neighbours classifier\n",
        "\n",
        "# Number of neighbours - 100\n",
        "clf = KNeighborsClassifier(n_neighbors=100).fit(train_x, train_y)\n",
        "clf.score(test_x, test_y)"
      ],
      "metadata": {
        "colab": {
          "base_uri": "https://localhost:8080/"
        },
        "id": "IRWFjn3V0iqp",
        "outputId": "4279388c-5883-45b2-e78e-1d7259151704"
      },
      "execution_count": null,
      "outputs": [
        {
          "output_type": "execute_result",
          "data": {
            "text/plain": [
              "0.9803921568627451"
            ]
          },
          "metadata": {},
          "execution_count": 84
        }
      ]
    },
    {
      "cell_type": "code",
      "source": [
        "# Number of neighbours - 50\n",
        "clf = KNeighborsClassifier(n_neighbors=50).fit(train_x, train_y)\n",
        "clf.score(test_x, test_y)"
      ],
      "metadata": {
        "colab": {
          "base_uri": "https://localhost:8080/"
        },
        "id": "9P8KkzRh6tQK",
        "outputId": "40622a25-67ce-4048-b653-f10829524778"
      },
      "execution_count": null,
      "outputs": [
        {
          "output_type": "execute_result",
          "data": {
            "text/plain": [
              "0.9803921568627451"
            ]
          },
          "metadata": {},
          "execution_count": 85
        }
      ]
    },
    {
      "cell_type": "code",
      "source": [
        "# Number of neighbours - 25\n",
        "clf = KNeighborsClassifier(n_neighbors=25).fit(train_x, train_y)\n",
        "clf.score(test_x, test_y)"
      ],
      "metadata": {
        "colab": {
          "base_uri": "https://localhost:8080/"
        },
        "id": "PAlreQeA6v8u",
        "outputId": "b0930379-e763-4e98-ce11-9473c126a3fa"
      },
      "execution_count": null,
      "outputs": [
        {
          "output_type": "execute_result",
          "data": {
            "text/plain": [
              "0.9803921568627451"
            ]
          },
          "metadata": {},
          "execution_count": 86
        }
      ]
    },
    {
      "cell_type": "code",
      "source": [
        "# Number of neighbours - 10\n",
        "clf = KNeighborsClassifier(n_neighbors=10).fit(train_x, train_y)\n",
        "clf.score(test_x, test_y)"
      ],
      "metadata": {
        "colab": {
          "base_uri": "https://localhost:8080/"
        },
        "id": "Kzt01pfB6yhX",
        "outputId": "a7579d81-58bd-49f2-98ec-ffdb82da8fb2"
      },
      "execution_count": null,
      "outputs": [
        {
          "output_type": "execute_result",
          "data": {
            "text/plain": [
              "0.9901960784313726"
            ]
          },
          "metadata": {},
          "execution_count": 87
        }
      ]
    },
    {
      "cell_type": "code",
      "source": [
        "# Number of neighbours - 5\n",
        "clf = KNeighborsClassifier(n_neighbors=5).fit(train_x, train_y)\n",
        "clf.score(test_x, test_y)"
      ],
      "metadata": {
        "colab": {
          "base_uri": "https://localhost:8080/"
        },
        "id": "bhli5eUL61T0",
        "outputId": "039e3502-b368-43fc-d7f0-f9f0523ca0c8"
      },
      "execution_count": null,
      "outputs": [
        {
          "output_type": "execute_result",
          "data": {
            "text/plain": [
              "0.9901960784313726"
            ]
          },
          "metadata": {},
          "execution_count": 88
        }
      ]
    },
    {
      "cell_type": "markdown",
      "source": [
        "Decision Tree classifier with different depths"
      ],
      "metadata": {
        "id": "Qo_BtbGp2DBR"
      }
    },
    {
      "cell_type": "code",
      "source": [
        "# Decision tree\n",
        "\n",
        "# With max_depth 1\n",
        "clf = DecisionTreeClassifier(random_state=0, max_depth=1).fit(train_x, train_y)\n",
        "clf.score(test_x, test_y)"
      ],
      "metadata": {
        "colab": {
          "base_uri": "https://localhost:8080/"
        },
        "id": "v4rtoZgEwT1P",
        "outputId": "596dd953-0812-4db0-edc2-3182af24dc7c"
      },
      "execution_count": null,
      "outputs": [
        {
          "output_type": "execute_result",
          "data": {
            "text/plain": [
              "0.7156862745098039"
            ]
          },
          "metadata": {},
          "execution_count": 90
        }
      ]
    },
    {
      "cell_type": "code",
      "source": [
        "# With max_depth 2\n",
        "clf = DecisionTreeClassifier(random_state=0, max_depth=2).fit(train_x, train_y)\n",
        "clf.score(test_x, test_y)"
      ],
      "metadata": {
        "colab": {
          "base_uri": "https://localhost:8080/"
        },
        "id": "2GTnevEt7Ka2",
        "outputId": "4224da86-d345-4204-ae65-eea95903978d"
      },
      "execution_count": null,
      "outputs": [
        {
          "output_type": "execute_result",
          "data": {
            "text/plain": [
              "0.9803921568627451"
            ]
          },
          "metadata": {},
          "execution_count": 89
        }
      ]
    },
    {
      "cell_type": "code",
      "source": [
        "# With max_depth 3\n",
        "clf = DecisionTreeClassifier(random_state=0, max_depth=3).fit(train_x, train_y)\n",
        "clf.score(test_x, test_y)"
      ],
      "metadata": {
        "colab": {
          "base_uri": "https://localhost:8080/"
        },
        "id": "SVZ8-GAxwqiI",
        "outputId": "484fe089-20f4-4bea-fb9d-602c0c25f1bd"
      },
      "execution_count": null,
      "outputs": [
        {
          "output_type": "execute_result",
          "data": {
            "text/plain": [
              "0.9901960784313726"
            ]
          },
          "metadata": {},
          "execution_count": 51
        }
      ]
    },
    {
      "cell_type": "code",
      "source": [
        "# With max_depth 5\n",
        "clf = DecisionTreeClassifier(random_state=0, max_depth=5).fit(train_x, train_y)\n",
        "clf.score(test_x, test_y)"
      ],
      "metadata": {
        "colab": {
          "base_uri": "https://localhost:8080/"
        },
        "id": "d2PEWhkLw5U_",
        "outputId": "49c17c86-785d-4a67-b9d2-dbab29f87b43"
      },
      "execution_count": null,
      "outputs": [
        {
          "output_type": "execute_result",
          "data": {
            "text/plain": [
              "0.9901960784313726"
            ]
          },
          "metadata": {},
          "execution_count": 52
        }
      ]
    },
    {
      "cell_type": "markdown",
      "source": [
        "Random forest classifier with different depth"
      ],
      "metadata": {
        "id": "_tg1uXs_2IlG"
      }
    },
    {
      "cell_type": "code",
      "source": [
        "# Random Forest Classifier\n",
        "\n",
        "# With max_depth 1\n",
        "clf = RandomForestClassifier(max_depth=1, random_state=0).fit(train_x, train_y)\n",
        "clf.score(test_x, test_y)"
      ],
      "metadata": {
        "colab": {
          "base_uri": "https://localhost:8080/"
        },
        "id": "AcWbkU-nw71R",
        "outputId": "deda8c0d-4a42-4297-c237-cfeb753e95b0"
      },
      "execution_count": null,
      "outputs": [
        {
          "output_type": "execute_result",
          "data": {
            "text/plain": [
              "0.9705882352941176"
            ]
          },
          "metadata": {},
          "execution_count": 56
        }
      ]
    },
    {
      "cell_type": "code",
      "source": [
        "# With max_depth 2\n",
        "clf = RandomForestClassifier(max_depth=2, random_state=0).fit(train_x, train_y)\n",
        "clf.score(test_x, test_y)"
      ],
      "metadata": {
        "colab": {
          "base_uri": "https://localhost:8080/"
        },
        "id": "b3k5xTx9xSmi",
        "outputId": "163cb32b-f34c-4c24-ab19-a6a28a899452"
      },
      "execution_count": null,
      "outputs": [
        {
          "output_type": "execute_result",
          "data": {
            "text/plain": [
              "0.9901960784313726"
            ]
          },
          "metadata": {},
          "execution_count": 57
        }
      ]
    },
    {
      "cell_type": "code",
      "source": [
        "# With max_depth 3\n",
        "clf = RandomForestClassifier(max_depth=3, random_state=0).fit(train_x, train_y)\n",
        "clf.score(test_x, test_y)"
      ],
      "metadata": {
        "colab": {
          "base_uri": "https://localhost:8080/"
        },
        "id": "E7OoWdDFxd8A",
        "outputId": "2cded8df-49c9-4665-b5b2-fa11a33d27d9"
      },
      "execution_count": null,
      "outputs": [
        {
          "output_type": "execute_result",
          "data": {
            "text/plain": [
              "0.9901960784313726"
            ]
          },
          "metadata": {},
          "execution_count": 58
        }
      ]
    },
    {
      "cell_type": "markdown",
      "source": [
        "Catboost classifier with different depths"
      ],
      "metadata": {
        "id": "I45kx_Ua2MnK"
      }
    },
    {
      "cell_type": "code",
      "source": [
        "# Catboost classifier\n",
        "\n",
        "# With depth 1\n",
        "model = CatBoostRegressor(iterations=2, learning_rate=0.05, depth=1).fit(train_x, train_y)\n",
        "clf.score(test_x, test_y)"
      ],
      "metadata": {
        "colab": {
          "base_uri": "https://localhost:8080/"
        },
        "id": "k_D9krL8xf4l",
        "outputId": "2011355a-b05d-4191-9fcb-22ceb8270c55"
      },
      "execution_count": null,
      "outputs": [
        {
          "output_type": "stream",
          "name": "stdout",
          "text": [
            "0:\tlearn: 0.7896398\ttotal: 4.78ms\tremaining: 4.78ms\n",
            "1:\tlearn: 0.7641673\ttotal: 9.03ms\tremaining: 0us\n"
          ]
        },
        {
          "output_type": "execute_result",
          "data": {
            "text/plain": [
              "0.9901960784313726"
            ]
          },
          "metadata": {},
          "execution_count": 64
        }
      ]
    },
    {
      "cell_type": "code",
      "source": [
        "# With depth 2\n",
        "model = CatBoostRegressor(iterations=2, learning_rate=0.05, depth=2).fit(train_x, train_y)\n",
        "clf.score(test_x, test_y)"
      ],
      "metadata": {
        "colab": {
          "base_uri": "https://localhost:8080/"
        },
        "id": "81Asy7hHx3A-",
        "outputId": "b249f064-c7f4-4bc2-a55d-06fe8bcbd72c"
      },
      "execution_count": null,
      "outputs": [
        {
          "output_type": "stream",
          "name": "stdout",
          "text": [
            "0:\tlearn: 0.7876752\ttotal: 1.35ms\tremaining: 1.35ms\n",
            "1:\tlearn: 0.7530308\ttotal: 1.77ms\tremaining: 0us\n"
          ]
        },
        {
          "output_type": "execute_result",
          "data": {
            "text/plain": [
              "0.9901960784313726"
            ]
          },
          "metadata": {},
          "execution_count": 65
        }
      ]
    },
    {
      "cell_type": "markdown",
      "source": [
        "XGboost classifier with different depths"
      ],
      "metadata": {
        "id": "nTaIk9l92RNT"
      }
    },
    {
      "cell_type": "code",
      "source": [
        "# XGBoost classifier\n",
        "\n",
        "# With depth 1\n",
        "xgb_cl = xgb.XGBClassifier(depth=1).fit(train_x, train_y)\n",
        "clf.score(test_x, test_y)"
      ],
      "metadata": {
        "colab": {
          "base_uri": "https://localhost:8080/"
        },
        "id": "REnYQUS1yD5P",
        "outputId": "dcba8c71-a385-4fac-bf87-293309dc0e16"
      },
      "execution_count": null,
      "outputs": [
        {
          "output_type": "execute_result",
          "data": {
            "text/plain": [
              "0.9901960784313726"
            ]
          },
          "metadata": {},
          "execution_count": 69
        }
      ]
    },
    {
      "cell_type": "code",
      "source": [
        "# With depth 2\n",
        "xgb_cl = xgb.XGBClassifier(depth=2).fit(train_x, train_y)\n",
        "clf.score(test_x, test_y)"
      ],
      "metadata": {
        "colab": {
          "base_uri": "https://localhost:8080/"
        },
        "id": "NMDly_VozErZ",
        "outputId": "7c4664db-c49e-4b9b-d83f-d2466a9315a8"
      },
      "execution_count": null,
      "outputs": [
        {
          "output_type": "execute_result",
          "data": {
            "text/plain": [
              "0.9901960784313726"
            ]
          },
          "metadata": {},
          "execution_count": 70
        }
      ]
    },
    {
      "cell_type": "markdown",
      "source": [
        "Thus, we can see that highest accuracy achieved on data is ~ 99.02 %"
      ],
      "metadata": {
        "id": "j4dq7WfM2T0r"
      }
    }
  ]
}